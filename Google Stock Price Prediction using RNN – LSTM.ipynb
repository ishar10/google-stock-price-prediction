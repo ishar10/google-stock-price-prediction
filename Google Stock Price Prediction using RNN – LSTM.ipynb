{
 "cells": [
  {
   "cell_type": "markdown",
   "metadata": {},
   "source": [
    "# We will read the data for first 60 days and then predict for the 61st day. Then we will hop ahead bt one day and read the next chunk of data for next sixty days.\n"
   ]
  },
  {
   "cell_type": "code",
   "execution_count": 1,
   "metadata": {},
   "outputs": [],
   "source": [
    "import numpy as np\n",
    "import matplotlib.pyplot as plt\n",
    "import pandas as pd\n",
    "from sklearn.preprocessing import MinMaxScaler"
   ]
  },
  {
   "cell_type": "code",
   "execution_count": 2,
   "metadata": {},
   "outputs": [
    {
     "data": {
      "text/html": [
       "<div>\n",
       "<style scoped>\n",
       "    .dataframe tbody tr th:only-of-type {\n",
       "        vertical-align: middle;\n",
       "    }\n",
       "\n",
       "    .dataframe tbody tr th {\n",
       "        vertical-align: top;\n",
       "    }\n",
       "\n",
       "    .dataframe thead th {\n",
       "        text-align: right;\n",
       "    }\n",
       "</style>\n",
       "<table border=\"1\" class=\"dataframe\">\n",
       "  <thead>\n",
       "    <tr style=\"text-align: right;\">\n",
       "      <th></th>\n",
       "      <th>Date</th>\n",
       "      <th>Open</th>\n",
       "      <th>High</th>\n",
       "      <th>Low</th>\n",
       "      <th>Close</th>\n",
       "      <th>Adj Close</th>\n",
       "      <th>Volume</th>\n",
       "    </tr>\n",
       "  </thead>\n",
       "  <tbody>\n",
       "    <tr>\n",
       "      <th>4127</th>\n",
       "      <td>2021-01-11</td>\n",
       "      <td>1786.069946</td>\n",
       "      <td>1794.314941</td>\n",
       "      <td>1760.520020</td>\n",
       "      <td>1766.719971</td>\n",
       "      <td>1766.719971</td>\n",
       "      <td>1209700</td>\n",
       "    </tr>\n",
       "    <tr>\n",
       "      <th>4128</th>\n",
       "      <td>2021-01-12</td>\n",
       "      <td>1753.920044</td>\n",
       "      <td>1778.040039</td>\n",
       "      <td>1725.310059</td>\n",
       "      <td>1746.550049</td>\n",
       "      <td>1746.550049</td>\n",
       "      <td>1357700</td>\n",
       "    </tr>\n",
       "    <tr>\n",
       "      <th>4129</th>\n",
       "      <td>2021-01-13</td>\n",
       "      <td>1738.579956</td>\n",
       "      <td>1765.035034</td>\n",
       "      <td>1738.010010</td>\n",
       "      <td>1754.400024</td>\n",
       "      <td>1754.400024</td>\n",
       "      <td>1094100</td>\n",
       "    </tr>\n",
       "    <tr>\n",
       "      <th>4130</th>\n",
       "      <td>2021-01-14</td>\n",
       "      <td>1753.619995</td>\n",
       "      <td>1775.010010</td>\n",
       "      <td>1733.400024</td>\n",
       "      <td>1740.180054</td>\n",
       "      <td>1740.180054</td>\n",
       "      <td>1179500</td>\n",
       "    </tr>\n",
       "    <tr>\n",
       "      <th>4131</th>\n",
       "      <td>2021-01-15</td>\n",
       "      <td>1738.189941</td>\n",
       "      <td>1756.000000</td>\n",
       "      <td>1721.550049</td>\n",
       "      <td>1736.189941</td>\n",
       "      <td>1736.189941</td>\n",
       "      <td>1342200</td>\n",
       "    </tr>\n",
       "  </tbody>\n",
       "</table>\n",
       "</div>"
      ],
      "text/plain": [
       "            Date         Open         High          Low        Close  \\\n",
       "4127  2021-01-11  1786.069946  1794.314941  1760.520020  1766.719971   \n",
       "4128  2021-01-12  1753.920044  1778.040039  1725.310059  1746.550049   \n",
       "4129  2021-01-13  1738.579956  1765.035034  1738.010010  1754.400024   \n",
       "4130  2021-01-14  1753.619995  1775.010010  1733.400024  1740.180054   \n",
       "4131  2021-01-15  1738.189941  1756.000000  1721.550049  1736.189941   \n",
       "\n",
       "        Adj Close   Volume  \n",
       "4127  1766.719971  1209700  \n",
       "4128  1746.550049  1357700  \n",
       "4129  1754.400024  1094100  \n",
       "4130  1740.180054  1179500  \n",
       "4131  1736.189941  1342200  "
      ]
     },
     "execution_count": 2,
     "metadata": {},
     "output_type": "execute_result"
    }
   ],
   "source": [
    "data = pd.read_csv('GOOG.csv', date_parser = True)\n",
    "data.tail()"
   ]
  },
  {
   "cell_type": "markdown",
   "metadata": {},
   "source": [
    "Here we splitting the data into training and testing dataset. We are going to take data from 2004 to 2019 as training data. Subsequently we are going to take the data of 2020 as testing data."
   ]
  },
  {
   "cell_type": "code",
   "execution_count": 3,
   "metadata": {},
   "outputs": [],
   "source": [
    "data_training = data[data['Date']<'2020-01-01'].copy()\n",
    "data_test = data[data['Date']>='2020-01-01'].copy()"
   ]
  },
  {
   "cell_type": "code",
   "execution_count": 4,
   "metadata": {},
   "outputs": [],
   "source": [
    "data_training = data_training.drop(['Date', 'Adj Close'], axis = 1)"
   ]
  },
  {
   "cell_type": "code",
   "execution_count": 5,
   "metadata": {},
   "outputs": [
    {
     "data": {
      "text/plain": [
       "array([[3.07080191e-04, 8.79291979e-04, 0.00000000e+00, 1.25356905e-04,\n",
       "        5.43577404e-01],\n",
       "       [6.89986513e-04, 2.78189186e-03, 1.73314228e-03, 3.15285500e-03,\n",
       "        2.77885613e-01],\n",
       "       [4.38255570e-03, 4.44951014e-03, 4.99709621e-03, 3.56690484e-03,\n",
       "        2.22150736e-01],\n",
       "       ...,\n",
       "       [9.99726026e-01, 9.99642423e-01, 9.97425041e-01, 9.92923311e-01,\n",
       "        1.24858240e-02],\n",
       "       [9.89839738e-01, 9.90869803e-01, 9.85707361e-01, 9.80912804e-01,\n",
       "        1.26372774e-02],\n",
       "       [9.74702051e-01, 9.79457057e-01, 9.81925328e-01, 9.81583871e-01,\n",
       "        1.15577171e-02]])"
      ]
     },
     "execution_count": 5,
     "metadata": {},
     "output_type": "execute_result"
    }
   ],
   "source": [
    "scaler = MinMaxScaler()\n",
    "data_training = scaler.fit_transform(data_training)\n",
    "data_training"
   ]
  },
  {
   "cell_type": "code",
   "execution_count": 6,
   "metadata": {},
   "outputs": [
    {
     "data": {
      "text/plain": [
       "(3869, 5)"
      ]
     },
     "execution_count": 6,
     "metadata": {},
     "output_type": "execute_result"
    }
   ],
   "source": [
    "data_training.shape"
   ]
  },
  {
   "cell_type": "code",
   "execution_count": 9,
   "metadata": {},
   "outputs": [
    {
     "data": {
      "text/plain": [
       "3869"
      ]
     },
     "execution_count": 9,
     "metadata": {},
     "output_type": "execute_result"
    }
   ],
   "source": [
    "data_training.shape[0]"
   ]
  },
  {
   "cell_type": "code",
   "execution_count": 10,
   "metadata": {},
   "outputs": [
    {
     "data": {
      "text/plain": [
       "0.032618950097937284"
      ]
     },
     "execution_count": 10,
     "metadata": {},
     "output_type": "execute_result"
    }
   ],
   "source": [
    "data_training[60, 0]"
   ]
  },
  {
   "cell_type": "code",
   "execution_count": 11,
   "metadata": {},
   "outputs": [
    {
     "data": {
      "text/plain": [
       "array([0.02651522, 0.03108214, 0.02733706, 0.03153236, 0.36440068])"
      ]
     },
     "execution_count": 11,
     "metadata": {},
     "output_type": "execute_result"
    }
   ],
   "source": [
    "data_training[59]"
   ]
  },
  {
   "cell_type": "code",
   "execution_count": 12,
   "metadata": {},
   "outputs": [
    {
     "data": {
      "text/plain": [
       "array([0.03261895, 0.03337511, 0.03108966, 0.0311449 , 0.40722445])"
      ]
     },
     "execution_count": 12,
     "metadata": {},
     "output_type": "execute_result"
    }
   ],
   "source": [
    "data_training[60] #taking 0-59 in train and predicting opening price on 60th day"
   ]
  },
  {
   "cell_type": "code",
   "execution_count": 13,
   "metadata": {},
   "outputs": [],
   "source": [
    "X_train = []\n",
    "y_train = []\n",
    "\n",
    "for i in range(60, data_training.shape[0]):\n",
    "    X_train.append(data_training[i-60:i])\n",
    "    y_train.append(data_training[i, 0])\n",
    "    \n",
    "X_train, y_train = np.array(X_train), np.array(y_train)"
   ]
  },
  {
   "cell_type": "code",
   "execution_count": 14,
   "metadata": {},
   "outputs": [
    {
     "data": {
      "text/plain": [
       "(3809, 60, 5)"
      ]
     },
     "execution_count": 14,
     "metadata": {},
     "output_type": "execute_result"
    }
   ],
   "source": [
    "X_train.shape"
   ]
  },
  {
   "cell_type": "markdown",
   "metadata": {},
   "source": [
    "# Building LSTM"
   ]
  },
  {
   "cell_type": "code",
   "execution_count": 16,
   "metadata": {},
   "outputs": [],
   "source": [
    "from tensorflow.keras import Sequential\n",
    "from tensorflow.keras.layers import Dense, LSTM, Dropout"
   ]
  },
  {
   "cell_type": "markdown",
   "metadata": {},
   "source": [
    "The first layer is the LSTM layer with 60 units.\n",
    "We will be using relu activation function.\n",
    "The rectified linear activation function or ReLU for short is a piecewise linear function that will output the input directly if it is positive, otherwise, it will output zero.relu.png\n",
    "return_sequence when set to True returns the full sequence as the output.\n",
    "input_shape is set to (X_train.shape[1],5) which is (60,5)\n",
    "Dropout layer is used to by randomly set the outgoing edges of hidden units to 0 at each update of the training phase.\n",
    "The value passed in dropout specifies the probability at which outputs of the layer are dropped out.\n",
    "The last layer is the Dense layer is the regular deeply connected neural network layer.\n",
    "As we are predicting a single value the units in the last layer is set to 1."
   ]
  },
  {
   "cell_type": "code",
   "execution_count": 17,
   "metadata": {},
   "outputs": [],
   "source": [
    "regressor = Sequential()\n",
    "\n",
    "regressor.add(LSTM(units = 60, activation = 'relu', return_sequences = True, input_shape = (X_train.shape[1], 5)))\n",
    "regressor.add(Dropout(0.2))\n",
    "\n",
    "regressor.add(LSTM(units = 60, activation = 'relu', return_sequences = True))\n",
    "regressor.add(Dropout(0.2))\n",
    "\n",
    "regressor.add(LSTM(units = 80, activation = 'relu', return_sequences = True))\n",
    "regressor.add(Dropout(0.2))\n",
    "\n",
    "regressor.add(LSTM(units = 120, activation = 'relu'))\n",
    "regressor.add(Dropout(0.2))\n",
    "\n",
    "regressor.add(Dense(units = 1))"
   ]
  },
  {
   "cell_type": "code",
   "execution_count": 18,
   "metadata": {},
   "outputs": [
    {
     "name": "stdout",
     "output_type": "stream",
     "text": [
      "Model: \"sequential\"\n",
      "_________________________________________________________________\n",
      "Layer (type)                 Output Shape              Param #   \n",
      "=================================================================\n",
      "lstm (LSTM)                  (None, 60, 60)            15840     \n",
      "_________________________________________________________________\n",
      "dropout (Dropout)            (None, 60, 60)            0         \n",
      "_________________________________________________________________\n",
      "lstm_1 (LSTM)                (None, 60, 60)            29040     \n",
      "_________________________________________________________________\n",
      "dropout_1 (Dropout)          (None, 60, 60)            0         \n",
      "_________________________________________________________________\n",
      "lstm_2 (LSTM)                (None, 60, 80)            45120     \n",
      "_________________________________________________________________\n",
      "dropout_2 (Dropout)          (None, 60, 80)            0         \n",
      "_________________________________________________________________\n",
      "lstm_3 (LSTM)                (None, 120)               96480     \n",
      "_________________________________________________________________\n",
      "dropout_3 (Dropout)          (None, 120)               0         \n",
      "_________________________________________________________________\n",
      "dense (Dense)                (None, 1)                 121       \n",
      "=================================================================\n",
      "Total params: 186,601\n",
      "Trainable params: 186,601\n",
      "Non-trainable params: 0\n",
      "_________________________________________________________________\n"
     ]
    }
   ],
   "source": [
    "regressor.summary()"
   ]
  },
  {
   "cell_type": "markdown",
   "metadata": {},
   "source": [
    "Here we are compiling the model and fitting it to the training data. We will use 50 epochs to train the model. An epoch is an iteration over the entire data provided. batch_size is the number of samples per gradient update i.e. here the weights will be updates after 32 training examples."
   ]
  },
  {
   "cell_type": "code",
   "execution_count": 19,
   "metadata": {},
   "outputs": [
    {
     "name": "stdout",
     "output_type": "stream",
     "text": [
      "Epoch 1/50\n",
      "120/120 [==============================] - 15s 129ms/step - loss: 0.0153\n",
      "Epoch 2/50\n",
      "120/120 [==============================] - 17s 142ms/step - loss: 0.0022\n",
      "Epoch 3/50\n",
      "120/120 [==============================] - 17s 143ms/step - loss: 0.0023\n",
      "Epoch 4/50\n",
      "120/120 [==============================] - 17s 138ms/step - loss: 0.0022\n",
      "Epoch 5/50\n",
      "120/120 [==============================] - 17s 138ms/step - loss: 0.0020\n",
      "Epoch 6/50\n",
      "120/120 [==============================] - 16s 136ms/step - loss: 0.0017\n",
      "Epoch 7/50\n",
      "120/120 [==============================] - 17s 140ms/step - loss: 0.0017\n",
      "Epoch 8/50\n",
      "120/120 [==============================] - 16s 131ms/step - loss: 0.0017\n",
      "Epoch 9/50\n",
      "120/120 [==============================] - 15s 127ms/step - loss: 0.0016\n",
      "Epoch 10/50\n",
      "120/120 [==============================] - 15s 127ms/step - loss: 0.0015\n",
      "Epoch 11/50\n",
      "120/120 [==============================] - 15s 128ms/step - loss: 0.0013\n",
      "Epoch 12/50\n",
      "120/120 [==============================] - 15s 125ms/step - loss: 0.0022\n",
      "Epoch 13/50\n",
      "120/120 [==============================] - 15s 128ms/step - loss: 0.0012\n",
      "Epoch 14/50\n",
      "120/120 [==============================] - 15s 123ms/step - loss: 0.0012\n",
      "Epoch 15/50\n",
      "120/120 [==============================] - 15s 121ms/step - loss: 0.0012\n",
      "Epoch 16/50\n",
      "120/120 [==============================] - 15s 122ms/step - loss: 0.0011\n",
      "Epoch 17/50\n",
      "120/120 [==============================] - 15s 121ms/step - loss: 0.0012\n",
      "Epoch 18/50\n",
      "120/120 [==============================] - 15s 122ms/step - loss: 0.0012\n",
      "Epoch 19/50\n",
      "120/120 [==============================] - 15s 126ms/step - loss: 0.0010\n",
      "Epoch 20/50\n",
      "120/120 [==============================] - 15s 123ms/step - loss: 0.0011\n",
      "Epoch 21/50\n",
      "120/120 [==============================] - 15s 127ms/step - loss: 0.0011\n",
      "Epoch 22/50\n",
      "120/120 [==============================] - 15s 125ms/step - loss: 0.0010\n",
      "Epoch 23/50\n",
      "120/120 [==============================] - 15s 122ms/step - loss: 9.5567e-04\n",
      "Epoch 24/50\n",
      "120/120 [==============================] - 15s 121ms/step - loss: 8.9469e-04\n",
      "Epoch 25/50\n",
      "120/120 [==============================] - 15s 122ms/step - loss: 9.6567e-04\n",
      "Epoch 26/50\n",
      "120/120 [==============================] - 15s 124ms/step - loss: 8.7090e-04\n",
      "Epoch 27/50\n",
      "120/120 [==============================] - 15s 124ms/step - loss: 9.8724e-04\n",
      "Epoch 28/50\n",
      "120/120 [==============================] - 15s 121ms/step - loss: 9.4588e-04\n",
      "Epoch 29/50\n",
      "120/120 [==============================] - 15s 121ms/step - loss: 9.4169e-04\n",
      "Epoch 30/50\n",
      "120/120 [==============================] - 15s 125ms/step - loss: 8.2465e-04\n",
      "Epoch 31/50\n",
      "120/120 [==============================] - 15s 122ms/step - loss: 8.2633e-04\n",
      "Epoch 32/50\n",
      "120/120 [==============================] - 15s 122ms/step - loss: 8.9786e-04\n",
      "Epoch 33/50\n",
      "120/120 [==============================] - 15s 121ms/step - loss: 8.3272e-04\n",
      "Epoch 34/50\n",
      "120/120 [==============================] - 15s 122ms/step - loss: 9.1175e-04\n",
      "Epoch 35/50\n",
      "120/120 [==============================] - 15s 124ms/step - loss: 7.7446e-04\n",
      "Epoch 36/50\n",
      "120/120 [==============================] - 15s 122ms/step - loss: 7.4257e-04\n",
      "Epoch 37/50\n",
      "120/120 [==============================] - 15s 123ms/step - loss: 8.5038e-04\n",
      "Epoch 38/50\n",
      "120/120 [==============================] - 15s 122ms/step - loss: 7.7860e-04\n",
      "Epoch 39/50\n",
      "120/120 [==============================] - 15s 126ms/step - loss: 8.1582e-04\n",
      "Epoch 40/50\n",
      "120/120 [==============================] - 15s 123ms/step - loss: 7.3727e-04\n",
      "Epoch 41/50\n",
      "120/120 [==============================] - 15s 123ms/step - loss: 7.8786e-04\n",
      "Epoch 42/50\n",
      "120/120 [==============================] - 15s 123ms/step - loss: 7.7511e-04\n",
      "Epoch 43/50\n",
      "120/120 [==============================] - 15s 123ms/step - loss: 0.0011\n",
      "Epoch 44/50\n",
      "120/120 [==============================] - 15s 121ms/step - loss: 8.2559e-04\n",
      "Epoch 45/50\n",
      "120/120 [==============================] - 15s 125ms/step - loss: 7.3639e-04\n",
      "Epoch 46/50\n",
      "120/120 [==============================] - 15s 123ms/step - loss: 7.3012e-04\n",
      "Epoch 47/50\n",
      "120/120 [==============================] - 15s 126ms/step - loss: 7.1585e-04\n",
      "Epoch 48/50\n",
      "120/120 [==============================] - 15s 122ms/step - loss: 7.6379e-04\n",
      "Epoch 49/50\n",
      "120/120 [==============================] - 15s 122ms/step - loss: 7.7816e-04\n",
      "Epoch 50/50\n",
      "120/120 [==============================] - 15s 124ms/step - loss: 7.6767e-04\n"
     ]
    },
    {
     "data": {
      "text/plain": [
       "<tensorflow.python.keras.callbacks.History at 0x21334f33dc0>"
      ]
     },
     "execution_count": 19,
     "metadata": {},
     "output_type": "execute_result"
    }
   ],
   "source": [
    "regressor.compile(optimizer='adam', loss = 'mean_squared_error')\n",
    "regressor.fit(X_train, y_train, epochs=50, batch_size=32)"
   ]
  },
  {
   "cell_type": "markdown",
   "metadata": {},
   "source": [
    "Prepare test dataset"
   ]
  },
  {
   "cell_type": "markdown",
   "metadata": {},
   "source": [
    "These are the first 5 entries in the test data set. To predict opening on any day we need the data of previous 60 days"
   ]
  },
  {
   "cell_type": "code",
   "execution_count": 20,
   "metadata": {},
   "outputs": [
    {
     "data": {
      "text/html": [
       "<div>\n",
       "<style scoped>\n",
       "    .dataframe tbody tr th:only-of-type {\n",
       "        vertical-align: middle;\n",
       "    }\n",
       "\n",
       "    .dataframe tbody tr th {\n",
       "        vertical-align: top;\n",
       "    }\n",
       "\n",
       "    .dataframe thead th {\n",
       "        text-align: right;\n",
       "    }\n",
       "</style>\n",
       "<table border=\"1\" class=\"dataframe\">\n",
       "  <thead>\n",
       "    <tr style=\"text-align: right;\">\n",
       "      <th></th>\n",
       "      <th>Date</th>\n",
       "      <th>Open</th>\n",
       "      <th>High</th>\n",
       "      <th>Low</th>\n",
       "      <th>Close</th>\n",
       "      <th>Adj Close</th>\n",
       "      <th>Volume</th>\n",
       "    </tr>\n",
       "  </thead>\n",
       "  <tbody>\n",
       "    <tr>\n",
       "      <th>3869</th>\n",
       "      <td>2020-01-02</td>\n",
       "      <td>1341.550049</td>\n",
       "      <td>1368.140015</td>\n",
       "      <td>1341.550049</td>\n",
       "      <td>1367.369995</td>\n",
       "      <td>1367.369995</td>\n",
       "      <td>1406600</td>\n",
       "    </tr>\n",
       "    <tr>\n",
       "      <th>3870</th>\n",
       "      <td>2020-01-03</td>\n",
       "      <td>1347.859985</td>\n",
       "      <td>1372.500000</td>\n",
       "      <td>1345.543945</td>\n",
       "      <td>1360.660034</td>\n",
       "      <td>1360.660034</td>\n",
       "      <td>1186400</td>\n",
       "    </tr>\n",
       "    <tr>\n",
       "      <th>3871</th>\n",
       "      <td>2020-01-06</td>\n",
       "      <td>1350.000000</td>\n",
       "      <td>1396.500000</td>\n",
       "      <td>1350.000000</td>\n",
       "      <td>1394.209961</td>\n",
       "      <td>1394.209961</td>\n",
       "      <td>1732300</td>\n",
       "    </tr>\n",
       "    <tr>\n",
       "      <th>3872</th>\n",
       "      <td>2020-01-07</td>\n",
       "      <td>1397.939941</td>\n",
       "      <td>1402.989990</td>\n",
       "      <td>1390.380005</td>\n",
       "      <td>1393.339966</td>\n",
       "      <td>1393.339966</td>\n",
       "      <td>1502700</td>\n",
       "    </tr>\n",
       "    <tr>\n",
       "      <th>3873</th>\n",
       "      <td>2020-01-08</td>\n",
       "      <td>1392.079956</td>\n",
       "      <td>1411.579956</td>\n",
       "      <td>1390.839966</td>\n",
       "      <td>1404.319946</td>\n",
       "      <td>1404.319946</td>\n",
       "      <td>1528000</td>\n",
       "    </tr>\n",
       "  </tbody>\n",
       "</table>\n",
       "</div>"
      ],
      "text/plain": [
       "            Date         Open         High          Low        Close  \\\n",
       "3869  2020-01-02  1341.550049  1368.140015  1341.550049  1367.369995   \n",
       "3870  2020-01-03  1347.859985  1372.500000  1345.543945  1360.660034   \n",
       "3871  2020-01-06  1350.000000  1396.500000  1350.000000  1394.209961   \n",
       "3872  2020-01-07  1397.939941  1402.989990  1390.380005  1393.339966   \n",
       "3873  2020-01-08  1392.079956  1411.579956  1390.839966  1404.319946   \n",
       "\n",
       "        Adj Close   Volume  \n",
       "3869  1367.369995  1406600  \n",
       "3870  1360.660034  1186400  \n",
       "3871  1394.209961  1732300  \n",
       "3872  1393.339966  1502700  \n",
       "3873  1404.319946  1528000  "
      ]
     },
     "execution_count": 20,
     "metadata": {},
     "output_type": "execute_result"
    }
   ],
   "source": [
    "data_test.head()"
   ]
  },
  {
   "cell_type": "markdown",
   "metadata": {},
   "source": [
    "past_60_days contains the data of the past 60 days required to predict the opening of the 1st day in the test data set."
   ]
  },
  {
   "cell_type": "code",
   "execution_count": 25,
   "metadata": {},
   "outputs": [],
   "source": [
    "data_train = data[data['Date']<'2020-01-01'].copy()\n",
    "past_60_days = data_train.tail(60)"
   ]
  },
  {
   "cell_type": "markdown",
   "metadata": {},
   "source": [
    "We are going to append data_test to past_60_days and ignore the index of data_test and drop Date and Adj Close."
   ]
  },
  {
   "cell_type": "code",
   "execution_count": 26,
   "metadata": {},
   "outputs": [
    {
     "data": {
      "text/html": [
       "<div>\n",
       "<style scoped>\n",
       "    .dataframe tbody tr th:only-of-type {\n",
       "        vertical-align: middle;\n",
       "    }\n",
       "\n",
       "    .dataframe tbody tr th {\n",
       "        vertical-align: top;\n",
       "    }\n",
       "\n",
       "    .dataframe thead th {\n",
       "        text-align: right;\n",
       "    }\n",
       "</style>\n",
       "<table border=\"1\" class=\"dataframe\">\n",
       "  <thead>\n",
       "    <tr style=\"text-align: right;\">\n",
       "      <th></th>\n",
       "      <th>Open</th>\n",
       "      <th>High</th>\n",
       "      <th>Low</th>\n",
       "      <th>Close</th>\n",
       "      <th>Volume</th>\n",
       "    </tr>\n",
       "  </thead>\n",
       "  <tbody>\n",
       "    <tr>\n",
       "      <th>0</th>\n",
       "      <td>1204.400024</td>\n",
       "      <td>1218.203979</td>\n",
       "      <td>1203.750000</td>\n",
       "      <td>1207.680054</td>\n",
       "      <td>842900</td>\n",
       "    </tr>\n",
       "    <tr>\n",
       "      <th>1</th>\n",
       "      <td>1197.589966</td>\n",
       "      <td>1206.079956</td>\n",
       "      <td>1189.010010</td>\n",
       "      <td>1189.130005</td>\n",
       "      <td>1039300</td>\n",
       "    </tr>\n",
       "    <tr>\n",
       "      <th>2</th>\n",
       "      <td>1199.349976</td>\n",
       "      <td>1208.349976</td>\n",
       "      <td>1197.630005</td>\n",
       "      <td>1202.310059</td>\n",
       "      <td>867700</td>\n",
       "    </tr>\n",
       "    <tr>\n",
       "      <th>3</th>\n",
       "      <td>1198.579956</td>\n",
       "      <td>1215.000000</td>\n",
       "      <td>1197.339966</td>\n",
       "      <td>1208.670044</td>\n",
       "      <td>846600</td>\n",
       "    </tr>\n",
       "    <tr>\n",
       "      <th>4</th>\n",
       "      <td>1222.209961</td>\n",
       "      <td>1228.390015</td>\n",
       "      <td>1213.739990</td>\n",
       "      <td>1215.449951</td>\n",
       "      <td>1272700</td>\n",
       "    </tr>\n",
       "  </tbody>\n",
       "</table>\n",
       "</div>"
      ],
      "text/plain": [
       "          Open         High          Low        Close   Volume\n",
       "0  1204.400024  1218.203979  1203.750000  1207.680054   842900\n",
       "1  1197.589966  1206.079956  1189.010010  1189.130005  1039300\n",
       "2  1199.349976  1208.349976  1197.630005  1202.310059   867700\n",
       "3  1198.579956  1215.000000  1197.339966  1208.670044   846600\n",
       "4  1222.209961  1228.390015  1213.739990  1215.449951  1272700"
      ]
     },
     "execution_count": 26,
     "metadata": {},
     "output_type": "execute_result"
    }
   ],
   "source": [
    "df = past_60_days.append(data_test, ignore_index = True)\n",
    "df = df.drop(['Date', 'Adj Close'], axis = 1)\n",
    "df.head()"
   ]
  },
  {
   "cell_type": "markdown",
   "metadata": {},
   "source": [
    "Similar to the training data set we have to scale the test data so that all the values are in the range 0 to 1."
   ]
  },
  {
   "cell_type": "code",
   "execution_count": 27,
   "metadata": {},
   "outputs": [
    {
     "data": {
      "text/plain": [
       "array([[0.87902801, 0.88831029, 0.88587359, 0.88295285, 0.01011709],\n",
       "       [0.87384509, 0.87908573, 0.87457744, 0.8688071 , 0.01249673],\n",
       "       [0.87518458, 0.88081287, 0.88118346, 0.87885784, 0.01041758],\n",
       "       ...,\n",
       "       [1.28557615, 1.30436655, 1.29530926, 1.29986613, 0.0131607 ],\n",
       "       [1.29702267, 1.31195601, 1.29177635, 1.28902238, 0.01419543],\n",
       "       [1.28527932, 1.29749225, 1.282695  , 1.28597963, 0.01616675]])"
      ]
     },
     "execution_count": 27,
     "metadata": {},
     "output_type": "execute_result"
    }
   ],
   "source": [
    "inputs = scaler.transform(df)\n",
    "inputs"
   ]
  },
  {
   "cell_type": "code",
   "execution_count": 28,
   "metadata": {},
   "outputs": [],
   "source": [
    "#We have to prepare the test data like the training data."
   ]
  },
  {
   "cell_type": "code",
   "execution_count": 29,
   "metadata": {},
   "outputs": [
    {
     "data": {
      "text/plain": [
       "((263, 60, 5), (263,))"
      ]
     },
     "execution_count": 29,
     "metadata": {},
     "output_type": "execute_result"
    }
   ],
   "source": [
    "X_test = []\n",
    "y_test = []\n",
    "\n",
    "for i in range(60, inputs.shape[0]):\n",
    "    X_test.append(inputs[i-60:i])\n",
    "    y_test.append(inputs[i, 0])\n",
    "\n",
    "X_test, y_test = np.array(X_test), np.array(y_test)\n",
    "X_test.shape, y_test.shape"
   ]
  },
  {
   "cell_type": "code",
   "execution_count": 30,
   "metadata": {},
   "outputs": [],
   "source": [
    "y_pred = regressor.predict(X_test)"
   ]
  },
  {
   "cell_type": "markdown",
   "metadata": {},
   "source": [
    "As we had scaled all the values down, now we will have to get them back to the original scale. scaler.scale_ gives the scaling level"
   ]
  },
  {
   "cell_type": "code",
   "execution_count": 31,
   "metadata": {},
   "outputs": [
    {
     "data": {
      "text/plain": [
       "array([7.61069658e-04, 7.60849739e-04, 7.66360329e-04, 7.62571888e-04,\n",
       "       1.21162775e-08])"
      ]
     },
     "execution_count": 31,
     "metadata": {},
     "output_type": "execute_result"
    }
   ],
   "source": [
    "scaler.scale_"
   ]
  },
  {
   "cell_type": "markdown",
   "metadata": {},
   "source": [
    "8.186 is the first value in the list which gives the scale of opening price. We will multiply y_pred and y_test with the inverse of this to get all the values to the original scale."
   ]
  },
  {
   "cell_type": "code",
   "execution_count": 32,
   "metadata": {},
   "outputs": [
    {
     "data": {
      "text/plain": [
       "1313.940175499678"
      ]
     },
     "execution_count": 32,
     "metadata": {},
     "output_type": "execute_result"
    }
   ],
   "source": [
    "scale = 1/7.61069658e-04\n",
    "scale"
   ]
  },
  {
   "cell_type": "code",
   "execution_count": 33,
   "metadata": {},
   "outputs": [],
   "source": [
    "y_pred = y_pred*scale\n",
    "y_test = y_test*scale"
   ]
  },
  {
   "cell_type": "code",
   "execution_count": 34,
   "metadata": {},
   "outputs": [
    {
     "data": {
      "image/png": "[encoded data removed]",
      "text/plain": [
       "<Figure size 1008x360 with 1 Axes>"
      ]
     },
     "metadata": {
      "needs_background": "light"
     },
     "output_type": "display_data"
    }
   ],
   "source": [
    "# Visualising the results\n",
    "plt.figure(figsize=(14,5))\n",
    "plt.plot(y_test, color = 'red', label = 'Real Google Stock Price')\n",
    "plt.plot(y_pred, color = 'blue', label = 'Predicted Google Stock Price')\n",
    "plt.title('Google Stock Price Prediction')\n",
    "plt.xlabel('Time')\n",
    "plt.ylabel('Google Stock Price')\n",
    "plt.legend()\n",
    "plt.show()"
   ]
  },
  {
   "cell_type": "code",
   "execution_count": null,
   "metadata": {},
   "outputs": [],
   "source": []
  }
 ],
 "metadata": {
  "kernelspec": {
   "display_name": "Python 3",
   "language": "python",
   "name": "python3"
  },
  "language_info": {
   "codemirror_mode": {
    "name": "ipython",
    "version": 3
   },
   "file_extension": ".py",
   "mimetype": "text/x-python",
   "name": "python",
   "nbconvert_exporter": "python",
   "pygments_lexer": "ipython3",
   "version": "3.8.3"
  }
 },
 "nbformat": 4,
 "nbformat_minor": 4
}
